{
 "cells": [
  {
   "cell_type": "markdown",
   "metadata": {},
   "source": [
    "# 数据集探索\n",
    "\n",
    "本笔记本用于探索数据集的结构和特征。"
   ]
  },
  {
   "cell_type": "code",
   "execution_count": null,
   "metadata": {},
   "outputs": [],
   "source": [
    "import torch\n",
    "import pandas as pd\n",
    "import matplotlib.pyplot as plt\n",
    "import seaborn as sns\n",
    "import pprint\n",
    "from tqdm.notebook import tqdm\n",
    "from omegaconf import OmegaConf\n",
    "from data.dataset import Dataset\n",
    "from data.datamodule import DataModule\n",
    "from hydra import compose, initialize\n",
    "\n",
    "from hydra.core.config_store import ConfigStore\n",
    "\n",
    "def load_config(config):\n",
    "    cs = ConfigStore.instance()\n",
    "    cs.store(name=\"cfg\", node=config)\n",
    "    with initialize(config_path=\"configs\", version_base=\"1.3\"):\n",
    "        cfg = compose(config_name=\"cfg\")\n",
    "    return cfg"
   ]
  },
  {
   "cell_type": "markdown",
   "metadata": {},
   "source": [
    "## 1. 数据集基本信息"
   ]
  },
  {
   "cell_type": "code",
   "execution_count": null,
   "metadata": {},
   "outputs": [],
   "source": [
    "from configs.experiments.base import BaseTrainConfig\n",
    "\n",
    "cfg = load_config(BaseTrainConfig)\n",
    "\n",
    "print(OmegaConf.to_yaml(cfg))"
   ]
  },
  {
   "cell_type": "code",
   "execution_count": null,
   "metadata": {},
   "outputs": [],
   "source": [
    "import seaborn as sns\n",
    "import numpy as np\n",
    "info['views']\n",
    "\n",
    "# 创建图形\n",
    "plt.figure(figsize=(15, 10))\n",
    "\n",
    "# 1. 原始分布\n",
    "plt.subplot(2, 2, 1)\n",
    "sns.histplot(data=info, x='views', bins=50)\n",
    "plt.title('Views Distribution')\n",
    "plt.xlabel('Views')\n",
    "plt.ylabel('Frequency')\n",
    "\n",
    "# 2. 对数尺度分布\n",
    "plt.subplot(2, 2, 2)\n",
    "sns.histplot(data=info, x='views', bins=50, log_scale=True)\n",
    "plt.title('Views Distribution (Logarithmic Scale)')\n",
    "plt.xlabel('Views (Logarithmic)')\n",
    "plt.ylabel('Frequency')\n",
    "\n",
    "# 3. 对数变换后的分布\n",
    "plt.subplot(2, 2, 3)\n",
    "sns.histplot(data=np.log1p(info['views']), bins=50)\n",
    "plt.title('log1p(Views) Distribution')\n",
    "plt.xlabel('log1p(Views)')\n",
    "plt.ylabel('Frequency')\n",
    "\n",
    "# 4. 箱线图\n",
    "plt.subplot(2, 2, 4)\n",
    "sns.boxplot(y=np.log1p(info['views']))\n",
    "plt.title('log1p(Views) Boxplot')\n",
    "plt.ylabel('log1p(Views)')\n",
    "\n",
    "plt.tight_layout()\n",
    "plt.show()\n",
    "\n",
    "# 打印统计信息\n",
    "print(\"Views Statistics:\")\n",
    "print(f\"Min: {info['views'].min():,.0f}\")\n",
    "print(f\"Max: {info['views'].max():,.0f}\")\n",
    "print(f\"Average: {info['views'].mean():,.0f}\")\n",
    "print(f\"Median: {info['views'].median():,.0f}\")\n",
    "print(f\"Standard Deviation: {info['views'].std():,.0f}\")\n",
    "\n",
    "print(f\"\\nView Statistics after logarithmic transform:\")\n",
    "log_views = np.log1p(info['views'])\n",
    "print(f\"Min: {log_views.min():.2f}\")\n",
    "print(f\"Max: {log_views.max():.2f}\")\n",
    "print(f\"Average: {log_views.mean():.2f}\")\n",
    "print(f\"Median: {log_views.median():.2f}\")\n",
    "print(f\"Standard Deviation: {log_views.std():.2f}\")"
   ]
  },
  {
   "cell_type": "markdown",
   "metadata": {},
   "source": [
    "## 2. 目标值分布分析"
   ]
  },
  {
   "cell_type": "code",
   "execution_count": null,
   "metadata": {},
   "outputs": [],
   "source": [
    "# 收集所有目标值\n",
    "targets = []\n",
    "for i in tqdm(range(len(dataset))):\n",
    "    targets.append(dataset[i]['target'].item())\n",
    "\n",
    "# 绘制目标值分布\n",
    "plt.figure(figsize=(12, 6))\n",
    "plt.subplot(1, 2, 1)\n",
    "sns.histplot(targets, bins=50)\n",
    "plt.title('目标值分布')\n",
    "plt.xlabel('目标值')\n",
    "plt.ylabel('频数')\n",
    "\n",
    "plt.subplot(1, 2, 2)\n",
    "sns.histplot(targets, bins=50, log_scale=True)\n",
    "plt.title('目标值分布 (对数尺度)')\n",
    "plt.xlabel('目标值 (对数)')\n",
    "plt.ylabel('频数')\n",
    "\n",
    "plt.tight_layout()\n",
    "plt.show()\n",
    "\n",
    "# 基本统计信息\n",
    "print(f\"目标值统计信息:\")\n",
    "print(f\"最小值: {min(targets):.2f}\")\n",
    "print(f\"最大值: {max(targets):.2f}\")\n",
    "print(f\"平均值: {sum(targets)/len(targets):.2f}\")\n",
    "print(f\"中位数: {sorted(targets)[len(targets)//2]:.2f}\")"
   ]
  },
  {
   "cell_type": "markdown",
   "metadata": {},
   "source": [
    "## 3. 图像特征分析"
   ]
  },
  {
   "cell_type": "code",
   "execution_count": null,
   "metadata": {},
   "outputs": [],
   "source": [
    "# 分析图像特征\n",
    "sample_images = []\n",
    "for i in range(min(5, len(dataset))):\n",
    "    sample_images.append(dataset[i]['image'])\n",
    "\n",
    "# 显示图像统计信息\n",
    "for i, img in enumerate(sample_images):\n",
    "    print(f\"\\n图像 {i+1} 统计信息:\")\n",
    "    print(f\"形状: {img.shape}\")\n",
    "    print(f\"最小值: {img.min().item():.3f}\")\n",
    "    print(f\"最大值: {img.max().item():.3f}\")\n",
    "    print(f\"平均值: {img.mean().item():.3f}\")\n",
    "    print(f\"标准差: {img.std().item():.3f}\")"
   ]
  },
  {
   "cell_type": "markdown",
   "metadata": {},
   "source": [
    "## 4. 元数据分析"
   ]
  },
  {
   "cell_type": "code",
   "execution_count": null,
   "metadata": {},
   "outputs": [],
   "source": [
    "# 收集元数据\n",
    "metadata = {}\n",
    "for key in ['title', 'description', 'channel_title', 'category_id']:\n",
    "    metadata[key] = []\n",
    "\n",
    "for i in tqdm(range(len(dataset))):\n",
    "    for key in metadata.keys():\n",
    "        if key in dataset[i]:\n",
    "            metadata[key].append(dataset[i][key])\n",
    "\n",
    "# 分析元数据\n",
    "for key, values in metadata.items():\n",
    "    if values:\n",
    "        print(f\"\\n{key} 统计信息:\")\n",
    "        if isinstance(values[0], str):\n",
    "            print(f\"唯一值数量: {len(set(values))}\")\n",
    "            print(f\"示例值: {values[:3]}\")\n",
    "        else:\n",
    "            print(f\"唯一值数量: {len(set(values))}\")\n",
    "            print(f\"示例值: {values[:3]}\")"
   ]
  },
  {
   "cell_type": "markdown",
   "metadata": {},
   "source": [
    "## 5. 数据加载器测试"
   ]
  },
  {
   "cell_type": "code",
   "execution_count": null,
   "metadata": {},
   "outputs": [],
   "source": [
    "# 测试数据加载器\n",
    "datamodule = DataModule(\n",
    "    dataset_path=\"../dataset\",\n",
    "    train_transform=None,  # 使用默认转换\n",
    "    test_transform=None,   # 使用默认转换\n",
    "    batch_size=32,\n",
    "    num_workers=4,\n",
    "    seed=42,\n",
    "    val_split=0.1\n",
    ")\n",
    "\n",
    "# 获取一个批次的数据\n",
    "train_loader = datamodule.train_dataloader()\n",
    "val_loader = datamodule.val_dataloader()\n",
    "\n",
    "print(f\"训练集批次数量: {len(train_loader)}\")\n",
    "if val_loader:\n",
    "    print(f\"验证集批次数量: {len(val_loader)}\")\n",
    "\n",
    "# 检查一个批次的数据\n",
    "batch = next(iter(train_loader))\n",
    "print(\"\\n批次数据示例:\")\n",
    "for key, value in batch.items():\n",
    "    if isinstance(value, torch.Tensor):\n",
    "        print(f\"{key}: Tensor shape {value.shape}\")\n",
    "    else:\n",
    "        print(f\"{key}: {value[:2] if isinstance(value, list) else value}\")"
   ]
  }
 ],
 "metadata": {
  "kernelspec": {
   "display_name": "challenge",
   "language": "python",
   "name": "python3"
  },
  "language_info": {
   "codemirror_mode": {
    "name": "ipython",
    "version": 3
   },
   "file_extension": ".py",
   "mimetype": "text/x-python",
   "name": "python",
   "nbconvert_exporter": "python",
   "pygments_lexer": "ipython3",
   "version": "3.12.9"
  }
 },
 "nbformat": 4,
 "nbformat_minor": 4
}
